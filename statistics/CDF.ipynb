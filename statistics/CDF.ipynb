{
 "cells": [
  {
   "cell_type": "code",
   "execution_count": null,
   "id": "25328d16",
   "metadata": {},
   "outputs": [],
   "source": []
  },
  {
   "cell_type": "code",
   "execution_count": null,
   "id": "8b6a6a29",
   "metadata": {},
   "outputs": [],
   "source": []
  },
  {
   "cell_type": "code",
   "execution_count": null,
   "id": "e66d0ead",
   "metadata": {},
   "outputs": [],
   "source": []
  },
  {
   "cell_type": "code",
   "execution_count": null,
   "id": "eceffdbb",
   "metadata": {},
   "outputs": [],
   "source": []
  },
  {
   "cell_type": "code",
   "execution_count": 1,
   "id": "1cb37063",
   "metadata": {
    "ExecuteTime": {
     "end_time": "2022-12-06T05:11:36.969674Z",
     "start_time": "2022-12-06T05:11:24.466001Z"
    }
   },
   "outputs": [],
   "source": [
    "from scipy import stats"
   ]
  },
  {
   "cell_type": "code",
   "execution_count": 2,
   "id": "07c12862",
   "metadata": {
    "ExecuteTime": {
     "end_time": "2022-12-06T05:12:10.454753Z",
     "start_time": "2022-12-06T05:12:10.280860Z"
    }
   },
   "outputs": [
    {
     "data": {
      "text/plain": [
       "0.8413447460685429"
      ]
     },
     "execution_count": 2,
     "metadata": {},
     "output_type": "execute_result"
    }
   ],
   "source": [
    "stats.norm.cdf(70,60,10)"
   ]
  },
  {
   "cell_type": "code",
   "execution_count": 3,
   "id": "8e6f366e",
   "metadata": {
    "ExecuteTime": {
     "end_time": "2022-12-06T05:12:28.923422Z",
     "start_time": "2022-12-06T05:12:28.900415Z"
    }
   },
   "outputs": [
    {
     "data": {
      "text/plain": [
       "0.15865525393145707"
      ]
     },
     "execution_count": 3,
     "metadata": {},
     "output_type": "execute_result"
    }
   ],
   "source": [
    "1-stats.norm.cdf(70,60,10)"
   ]
  },
  {
   "cell_type": "code",
   "execution_count": 4,
   "id": "d89dfee9",
   "metadata": {
    "ExecuteTime": {
     "end_time": "2022-12-06T05:20:12.016620Z",
     "start_time": "2022-12-06T05:20:11.996637Z"
    }
   },
   "outputs": [
    {
     "data": {
      "text/plain": [
       "0.14254260383881612"
      ]
     },
     "execution_count": 4,
     "metadata": {},
     "output_type": "execute_result"
    }
   ],
   "source": [
    "stats.norm.cdf(680,711,29)"
   ]
  },
  {
   "cell_type": "code",
   "execution_count": 5,
   "id": "9cb4e45b",
   "metadata": {
    "ExecuteTime": {
     "end_time": "2022-12-06T05:20:36.456345Z",
     "start_time": "2022-12-06T05:20:36.436336Z"
    }
   },
   "outputs": [
    {
     "data": {
      "text/plain": [
       "0.8574573961611839"
      ]
     },
     "execution_count": 5,
     "metadata": {},
     "output_type": "execute_result"
    }
   ],
   "source": [
    "1-stats.norm.cdf(680,711,29)"
   ]
  },
  {
   "cell_type": "code",
   "execution_count": 7,
   "id": "856c7cd8",
   "metadata": {
    "ExecuteTime": {
     "end_time": "2022-12-06T05:31:43.965652Z",
     "start_time": "2022-12-06T05:31:43.940663Z"
    }
   },
   "outputs": [
    {
     "data": {
      "text/plain": [
       "0.8413447460685429"
      ]
     },
     "execution_count": 7,
     "metadata": {},
     "output_type": "execute_result"
    }
   ],
   "source": [
    "stats.norm.cdf(740,711,29)"
   ]
  },
  {
   "cell_type": "code",
   "execution_count": 8,
   "id": "45fb54df",
   "metadata": {
    "ExecuteTime": {
     "end_time": "2022-12-06T05:31:47.232700Z",
     "start_time": "2022-12-06T05:31:47.219208Z"
    }
   },
   "outputs": [
    {
     "data": {
      "text/plain": [
       "0.31463356742704107"
      ]
     },
     "execution_count": 8,
     "metadata": {},
     "output_type": "execute_result"
    }
   ],
   "source": [
    "stats.norm.cdf(697,711,29)"
   ]
  },
  {
   "cell_type": "code",
   "execution_count": 9,
   "id": "a6b1ba3c",
   "metadata": {
    "ExecuteTime": {
     "end_time": "2022-12-06T05:33:07.145913Z",
     "start_time": "2022-12-06T05:33:07.126924Z"
    }
   },
   "outputs": [
    {
     "data": {
      "text/plain": [
       "0.5267111786415019"
      ]
     },
     "execution_count": 9,
     "metadata": {},
     "output_type": "execute_result"
    }
   ],
   "source": [
    "stats.norm.cdf(740,711,29)-stats.norm.cdf(697,711,29)"
   ]
  },
  {
   "cell_type": "code",
   "execution_count": null,
   "id": "52d6ed26",
   "metadata": {},
   "outputs": [],
   "source": []
  },
  {
   "cell_type": "code",
   "execution_count": null,
   "id": "2231ee62",
   "metadata": {},
   "outputs": [],
   "source": []
  },
  {
   "cell_type": "code",
   "execution_count": 43,
   "id": "c95a2821",
   "metadata": {
    "ExecuteTime": {
     "end_time": "2022-12-06T06:28:49.494855Z",
     "start_time": "2022-12-06T06:28:49.476865Z"
    }
   },
   "outputs": [
    {
     "data": {
      "text/plain": [
       "1.0364333894937898"
      ]
     },
     "execution_count": 43,
     "metadata": {},
     "output_type": "execute_result"
    }
   ],
   "source": [
    "stats.norm.ppf(.85)"
   ]
  },
  {
   "cell_type": "code",
   "execution_count": 11,
   "id": "e4bbb9d2",
   "metadata": {
    "ExecuteTime": {
     "end_time": "2022-12-06T05:48:46.166827Z",
     "start_time": "2022-12-06T05:48:46.142845Z"
    }
   },
   "outputs": [
    {
     "data": {
      "text/plain": [
       "0.8413447460685429"
      ]
     },
     "execution_count": 11,
     "metadata": {},
     "output_type": "execute_result"
    }
   ],
   "source": [
    "stats.norm.cdf(150,120,30)"
   ]
  },
  {
   "cell_type": "code",
   "execution_count": 12,
   "id": "688cdb30",
   "metadata": {
    "ExecuteTime": {
     "end_time": "2022-12-06T05:51:30.045040Z",
     "start_time": "2022-12-06T05:51:29.904119Z"
    }
   },
   "outputs": [
    {
     "data": {
      "text/plain": [
       "0.9961696194324102"
      ]
     },
     "execution_count": 12,
     "metadata": {},
     "output_type": "execute_result"
    }
   ],
   "source": [
    "stats.norm.cdf(200,120,30)"
   ]
  },
  {
   "cell_type": "code",
   "execution_count": 13,
   "id": "efe78e49",
   "metadata": {
    "ExecuteTime": {
     "end_time": "2022-12-06T05:51:46.325279Z",
     "start_time": "2022-12-06T05:51:46.307287Z"
    }
   },
   "outputs": [
    {
     "data": {
      "text/plain": [
       "0.003830380567589775"
      ]
     },
     "execution_count": 13,
     "metadata": {},
     "output_type": "execute_result"
    }
   ],
   "source": [
    "1-stats.norm.cdf(200,120,30)"
   ]
  },
  {
   "cell_type": "code",
   "execution_count": 14,
   "id": "224713cf",
   "metadata": {
    "ExecuteTime": {
     "end_time": "2022-12-06T05:52:29.805849Z",
     "start_time": "2022-12-06T05:52:29.791856Z"
    }
   },
   "outputs": [
    {
     "data": {
      "text/plain": [
       "0.2524925375469229"
      ]
     },
     "execution_count": 14,
     "metadata": {},
     "output_type": "execute_result"
    }
   ],
   "source": [
    "stats.norm.cdf(100,120,30)"
   ]
  },
  {
   "cell_type": "code",
   "execution_count": 38,
   "id": "3de9fe06",
   "metadata": {
    "ExecuteTime": {
     "end_time": "2022-12-06T06:25:16.348064Z",
     "start_time": "2022-12-06T06:25:16.328057Z"
    }
   },
   "outputs": [
    {
     "data": {
      "text/plain": [
       "0.7436770818854873"
      ]
     },
     "execution_count": 38,
     "metadata": {},
     "output_type": "execute_result"
    }
   ],
   "source": [
    "stats.norm.cdf(200,120,30)-stats.norm.cdf(100,120,30)"
   ]
  },
  {
   "cell_type": "code",
   "execution_count": 39,
   "id": "c88e7cee",
   "metadata": {
    "ExecuteTime": {
     "end_time": "2022-12-06T06:25:28.197844Z",
     "start_time": "2022-12-06T06:25:28.161863Z"
    }
   },
   "outputs": [
    {
     "ename": "NameError",
     "evalue": "name 'x' is not defined",
     "output_type": "error",
     "traceback": [
      "\u001b[1;31m---------------------------------------------------------------------------\u001b[0m",
      "\u001b[1;31mNameError\u001b[0m                                 Traceback (most recent call last)",
      "\u001b[1;32m~\\AppData\\Local\\Temp\\ipykernel_14596\\2877983514.py\u001b[0m in \u001b[0;36m<module>\u001b[1;34m\u001b[0m\n\u001b[1;32m----> 1\u001b[1;33m \u001b[0mz\u001b[0m\u001b[1;33m=\u001b[0m\u001b[1;33m(\u001b[0m\u001b[0mx\u001b[0m\u001b[1;33m-\u001b[0m\u001b[0mmean\u001b[0m\u001b[1;33m)\u001b[0m\u001b[1;33m/\u001b[0m\u001b[0mstd\u001b[0m\u001b[1;33m\u001b[0m\u001b[1;33m\u001b[0m\u001b[0m\n\u001b[0m",
      "\u001b[1;31mNameError\u001b[0m: name 'x' is not defined"
     ]
    }
   ],
   "source": [
    "z=(x-mean)/std\n"
   ]
  },
  {
   "cell_type": "code",
   "execution_count": 40,
   "id": "d098f291",
   "metadata": {
    "ExecuteTime": {
     "end_time": "2022-12-06T06:25:36.043197Z",
     "start_time": "2022-12-06T06:25:36.028206Z"
    }
   },
   "outputs": [
    {
     "data": {
      "text/plain": [
       "-2.0"
      ]
     },
     "execution_count": 40,
     "metadata": {},
     "output_type": "execute_result"
    }
   ],
   "source": [
    "z=(50-70)/10\n",
    "z"
   ]
  },
  {
   "cell_type": "code",
   "execution_count": 41,
   "id": "cdcc4f5d",
   "metadata": {
    "ExecuteTime": {
     "end_time": "2022-12-06T06:25:47.465602Z",
     "start_time": "2022-12-06T06:25:47.451608Z"
    }
   },
   "outputs": [
    {
     "data": {
      "text/plain": [
       "0.022750131948179195"
      ]
     },
     "execution_count": 41,
     "metadata": {},
     "output_type": "execute_result"
    }
   ],
   "source": [
    "stats.norm.cdf(-2.0)"
   ]
  },
  {
   "cell_type": "code",
   "execution_count": 30,
   "id": "49e8ed7c",
   "metadata": {
    "ExecuteTime": {
     "end_time": "2022-12-06T06:17:16.525463Z",
     "start_time": "2022-12-06T06:17:16.504475Z"
    }
   },
   "outputs": [
    {
     "data": {
      "text/plain": [
       "2.0"
      ]
     },
     "execution_count": 30,
     "metadata": {},
     "output_type": "execute_result"
    }
   ],
   "source": [
    "z=(90-70)/10\n",
    "z"
   ]
  },
  {
   "cell_type": "code",
   "execution_count": 31,
   "id": "15194289",
   "metadata": {
    "ExecuteTime": {
     "end_time": "2022-12-06T06:17:42.068439Z",
     "start_time": "2022-12-06T06:17:42.050458Z"
    }
   },
   "outputs": [
    {
     "data": {
      "text/plain": [
       "0.9772498680518208"
      ]
     },
     "execution_count": 31,
     "metadata": {},
     "output_type": "execute_result"
    }
   ],
   "source": [
    "stats.norm.cdf(2.0)"
   ]
  },
  {
   "cell_type": "code",
   "execution_count": 32,
   "id": "9b89fb22",
   "metadata": {
    "ExecuteTime": {
     "end_time": "2022-12-06T06:18:59.418160Z",
     "start_time": "2022-12-06T06:18:59.404153Z"
    }
   },
   "outputs": [
    {
     "data": {
      "text/plain": [
       "0.9544997361036416"
      ]
     },
     "execution_count": 32,
     "metadata": {},
     "output_type": "execute_result"
    }
   ],
   "source": [
    "stats.norm.cdf(2.0)-stats.norm.cdf(-2.0)"
   ]
  },
  {
   "cell_type": "code",
   "execution_count": 33,
   "id": "fc0a83c9",
   "metadata": {
    "ExecuteTime": {
     "end_time": "2022-12-06T06:20:20.522355Z",
     "start_time": "2022-12-06T06:20:20.494369Z"
    }
   },
   "outputs": [
    {
     "data": {
      "text/plain": [
       "0.3"
      ]
     },
     "execution_count": 33,
     "metadata": {},
     "output_type": "execute_result"
    }
   ],
   "source": [
    "z=(100-70)/100\n",
    "z"
   ]
  },
  {
   "cell_type": "code",
   "execution_count": 36,
   "id": "b5d8f71b",
   "metadata": {
    "ExecuteTime": {
     "end_time": "2022-12-06T06:22:04.737708Z",
     "start_time": "2022-12-06T06:22:04.721715Z"
    }
   },
   "outputs": [
    {
     "data": {
      "text/plain": [
       "0.9986501019683699"
      ]
     },
     "execution_count": 36,
     "metadata": {},
     "output_type": "execute_result"
    }
   ],
   "source": [
    "\n",
    "stats.norm.cdf(100,70,10)\n"
   ]
  },
  {
   "cell_type": "code",
   "execution_count": 42,
   "id": "da6a0a9f",
   "metadata": {
    "ExecuteTime": {
     "end_time": "2022-12-06T06:27:31.580005Z",
     "start_time": "2022-12-06T06:27:31.560999Z"
    }
   },
   "outputs": [
    {
     "data": {
      "text/plain": [
       "0.0013498980316301035"
      ]
     },
     "execution_count": 42,
     "metadata": {},
     "output_type": "execute_result"
    }
   ],
   "source": [
    "1-stats.norm.cdf(100,70,10)"
   ]
  },
  {
   "cell_type": "code",
   "execution_count": null,
   "id": "82d86110",
   "metadata": {},
   "outputs": [],
   "source": []
  }
 ],
 "metadata": {
  "kernelspec": {
   "display_name": "Python 3 (ipykernel)",
   "language": "python",
   "name": "python3"
  },
  "language_info": {
   "codemirror_mode": {
    "name": "ipython",
    "version": 3
   },
   "file_extension": ".py",
   "mimetype": "text/x-python",
   "name": "python",
   "nbconvert_exporter": "python",
   "pygments_lexer": "ipython3",
   "version": "3.9.13"
  }
 },
 "nbformat": 4,
 "nbformat_minor": 5
}
