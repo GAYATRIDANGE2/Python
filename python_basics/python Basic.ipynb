{
 "cells": [
  {
   "cell_type": "markdown",
   "id": "c3a0311c",
   "metadata": {},
   "source": [
    "# Data structures\n",
    "1.List\n",
    "2.Tuple\n",
    "3.Dictionary\n",
    "4.Sets"
   ]
  },
  {
   "cell_type": "markdown",
   "id": "f3d7d845",
   "metadata": {},
   "source": [
    "# List\n",
    "\n",
    "1.List are the builin data structure in python.\n",
    "\n",
    "\n",
    "2.List are hetrogeneous in nature.\n",
    "\n",
    "\n",
    "\n",
    "3.List are mutable."
   ]
  },
  {
   "cell_type": "code",
   "execution_count": null,
   "id": "479c2a94",
   "metadata": {},
   "outputs": [],
   "source": [
    "# Creating list"
   ]
  },
  {
   "cell_type": "code",
   "execution_count": 1,
   "id": "e376bc66",
   "metadata": {
    "ExecuteTime": {
     "end_time": "2022-11-28T11:23:06.322630Z",
     "start_time": "2022-11-28T11:23:06.277640Z"
    }
   },
   "outputs": [],
   "source": [
    "lst=[]"
   ]
  },
  {
   "cell_type": "code",
   "execution_count": 2,
   "id": "10cbacd5",
   "metadata": {
    "ExecuteTime": {
     "end_time": "2022-11-28T11:23:18.661272Z",
     "start_time": "2022-11-28T11:23:18.629307Z"
    }
   },
   "outputs": [
    {
     "data": {
      "text/plain": [
       "list"
      ]
     },
     "execution_count": 2,
     "metadata": {},
     "output_type": "execute_result"
    }
   ],
   "source": [
    "type(lst)"
   ]
  },
  {
   "cell_type": "code",
   "execution_count": 3,
   "id": "dfa471a2",
   "metadata": {
    "ExecuteTime": {
     "end_time": "2022-11-28T11:24:11.166561Z",
     "start_time": "2022-11-28T11:24:11.149557Z"
    }
   },
   "outputs": [],
   "source": [
    "lst=[10,10.5,'Hello',True]"
   ]
  },
  {
   "cell_type": "code",
   "execution_count": 4,
   "id": "e1f2709c",
   "metadata": {
    "ExecuteTime": {
     "end_time": "2022-11-28T11:24:57.563202Z",
     "start_time": "2022-11-28T11:24:57.553222Z"
    }
   },
   "outputs": [
    {
     "data": {
      "text/plain": [
       "[10, 10.5, 'Hello', True]"
      ]
     },
     "execution_count": 4,
     "metadata": {},
     "output_type": "execute_result"
    }
   ],
   "source": [
    "lst"
   ]
  },
  {
   "cell_type": "code",
   "execution_count": 5,
   "id": "eeab4fb8",
   "metadata": {
    "ExecuteTime": {
     "end_time": "2022-11-28T11:25:40.591573Z",
     "start_time": "2022-11-28T11:25:40.571588Z"
    }
   },
   "outputs": [
    {
     "data": {
      "text/plain": [
       "list"
      ]
     },
     "execution_count": 5,
     "metadata": {},
     "output_type": "execute_result"
    }
   ],
   "source": [
    "type(lst)"
   ]
  },
  {
   "cell_type": "code",
   "execution_count": 6,
   "id": "a5b2783f",
   "metadata": {
    "ExecuteTime": {
     "end_time": "2022-11-28T11:26:59.062861Z",
     "start_time": "2022-11-28T11:26:59.052866Z"
    }
   },
   "outputs": [],
   "source": [
    "lst1=list()"
   ]
  },
  {
   "cell_type": "code",
   "execution_count": 7,
   "id": "c452b215",
   "metadata": {
    "ExecuteTime": {
     "end_time": "2022-11-28T11:27:17.238455Z",
     "start_time": "2022-11-28T11:27:17.217470Z"
    }
   },
   "outputs": [
    {
     "data": {
      "text/plain": [
       "list"
      ]
     },
     "execution_count": 7,
     "metadata": {},
     "output_type": "execute_result"
    }
   ],
   "source": [
    "type(lst1)"
   ]
  },
  {
   "cell_type": "code",
   "execution_count": 8,
   "id": "1ca2421c",
   "metadata": {
    "ExecuteTime": {
     "end_time": "2022-11-28T11:41:05.048474Z",
     "start_time": "2022-11-28T11:41:05.033484Z"
    }
   },
   "outputs": [
    {
     "data": {
      "text/plain": [
       "[10, 10.5, 'Hello', True]"
      ]
     },
     "execution_count": 8,
     "metadata": {},
     "output_type": "execute_result"
    }
   ],
   "source": [
    "lst"
   ]
  },
  {
   "cell_type": "code",
   "execution_count": 9,
   "id": "8fe9e69a",
   "metadata": {
    "ExecuteTime": {
     "end_time": "2022-11-28T11:44:17.990489Z",
     "start_time": "2022-11-28T11:44:17.966503Z"
    }
   },
   "outputs": [
    {
     "data": {
      "text/plain": [
       "True"
      ]
     },
     "execution_count": 9,
     "metadata": {},
     "output_type": "execute_result"
    }
   ],
   "source": [
    "#Accessing element from a list\n",
    "lst[3]"
   ]
  },
  {
   "cell_type": "code",
   "execution_count": 10,
   "id": "51cdf3f8",
   "metadata": {
    "ExecuteTime": {
     "end_time": "2022-11-28T11:45:15.835110Z",
     "start_time": "2022-11-28T11:45:15.820102Z"
    }
   },
   "outputs": [
    {
     "data": {
      "text/plain": [
       "[10.5, 'Hello']"
      ]
     },
     "execution_count": 10,
     "metadata": {},
     "output_type": "execute_result"
    }
   ],
   "source": [
    "lst[1:3]"
   ]
  },
  {
   "cell_type": "code",
   "execution_count": 11,
   "id": "674660dd",
   "metadata": {
    "ExecuteTime": {
     "end_time": "2022-11-28T11:45:29.018732Z",
     "start_time": "2022-11-28T11:45:28.992177Z"
    }
   },
   "outputs": [
    {
     "data": {
      "text/plain": [
       "True"
      ]
     },
     "execution_count": 11,
     "metadata": {},
     "output_type": "execute_result"
    }
   ],
   "source": [
    "lst[-1]"
   ]
  },
  {
   "cell_type": "code",
   "execution_count": 12,
   "id": "7c84b524",
   "metadata": {
    "ExecuteTime": {
     "end_time": "2022-11-28T11:47:00.548646Z",
     "start_time": "2022-11-28T11:47:00.542678Z"
    }
   },
   "outputs": [],
   "source": [
    "#append"
   ]
  },
  {
   "cell_type": "code",
   "execution_count": 13,
   "id": "6935022d",
   "metadata": {
    "ExecuteTime": {
     "end_time": "2022-11-28T11:47:15.522530Z",
     "start_time": "2022-11-28T11:47:15.507520Z"
    }
   },
   "outputs": [],
   "source": [
    "lst.append(1000)"
   ]
  },
  {
   "cell_type": "code",
   "execution_count": 14,
   "id": "507601e1",
   "metadata": {
    "ExecuteTime": {
     "end_time": "2022-11-28T11:47:25.255959Z",
     "start_time": "2022-11-28T11:47:25.233953Z"
    }
   },
   "outputs": [
    {
     "data": {
      "text/plain": [
       "[10, 10.5, 'Hello', True, 1000]"
      ]
     },
     "execution_count": 14,
     "metadata": {},
     "output_type": "execute_result"
    }
   ],
   "source": [
    "lst"
   ]
  },
  {
   "cell_type": "code",
   "execution_count": 15,
   "id": "bd832477",
   "metadata": {
    "ExecuteTime": {
     "end_time": "2022-11-28T11:47:50.448772Z",
     "start_time": "2022-11-28T11:47:50.439780Z"
    }
   },
   "outputs": [],
   "source": [
    "#count"
   ]
  },
  {
   "cell_type": "code",
   "execution_count": 19,
   "id": "cd619648",
   "metadata": {
    "ExecuteTime": {
     "end_time": "2022-11-28T11:48:58.746140Z",
     "start_time": "2022-11-28T11:48:58.723205Z"
    }
   },
   "outputs": [
    {
     "data": {
      "text/plain": [
       "1"
      ]
     },
     "execution_count": 19,
     "metadata": {},
     "output_type": "execute_result"
    }
   ],
   "source": [
    "lst.count(1000)\n"
   ]
  },
  {
   "cell_type": "code",
   "execution_count": 16,
   "id": "f7d9999c",
   "metadata": {
    "ExecuteTime": {
     "end_time": "2022-11-28T11:48:02.164596Z",
     "start_time": "2022-11-28T11:48:02.149590Z"
    }
   },
   "outputs": [],
   "source": [
    "#index"
   ]
  },
  {
   "cell_type": "code",
   "execution_count": 20,
   "id": "5554ac0f",
   "metadata": {
    "ExecuteTime": {
     "end_time": "2022-11-28T11:49:25.371694Z",
     "start_time": "2022-11-28T11:49:25.317182Z"
    }
   },
   "outputs": [
    {
     "data": {
      "text/plain": [
       "0"
      ]
     },
     "execution_count": 20,
     "metadata": {},
     "output_type": "execute_result"
    }
   ],
   "source": [
    "lst.index(10)"
   ]
  },
  {
   "cell_type": "code",
   "execution_count": 17,
   "id": "5c09cbfe",
   "metadata": {
    "ExecuteTime": {
     "end_time": "2022-11-28T11:48:10.152984Z",
     "start_time": "2022-11-28T11:48:10.144989Z"
    }
   },
   "outputs": [],
   "source": [
    "#insert"
   ]
  },
  {
   "cell_type": "code",
   "execution_count": 21,
   "id": "d521daf4",
   "metadata": {
    "ExecuteTime": {
     "end_time": "2022-11-28T11:51:13.529883Z",
     "start_time": "2022-11-28T11:51:13.514892Z"
    }
   },
   "outputs": [],
   "source": [
    "lst.insert(0,50)"
   ]
  },
  {
   "cell_type": "code",
   "execution_count": 22,
   "id": "b3fa1645",
   "metadata": {
    "ExecuteTime": {
     "end_time": "2022-11-28T11:51:26.246789Z",
     "start_time": "2022-11-28T11:51:26.236794Z"
    }
   },
   "outputs": [
    {
     "data": {
      "text/plain": [
       "[50, 10, 10.5, 'Hello', True, 1000]"
      ]
     },
     "execution_count": 22,
     "metadata": {},
     "output_type": "execute_result"
    }
   ],
   "source": [
    "lst"
   ]
  },
  {
   "cell_type": "code",
   "execution_count": 23,
   "id": "0c31b110",
   "metadata": {
    "ExecuteTime": {
     "end_time": "2022-11-28T11:51:44.160098Z",
     "start_time": "2022-11-28T11:51:44.144108Z"
    }
   },
   "outputs": [],
   "source": [
    "#pop"
   ]
  },
  {
   "cell_type": "code",
   "execution_count": 24,
   "id": "9a903f40",
   "metadata": {
    "ExecuteTime": {
     "end_time": "2022-11-28T11:52:37.173863Z",
     "start_time": "2022-11-28T11:52:37.151862Z"
    }
   },
   "outputs": [
    {
     "data": {
      "text/plain": [
       "1000"
      ]
     },
     "execution_count": 24,
     "metadata": {},
     "output_type": "execute_result"
    }
   ],
   "source": [
    "lst.pop()"
   ]
  },
  {
   "cell_type": "code",
   "execution_count": 25,
   "id": "94368676",
   "metadata": {
    "ExecuteTime": {
     "end_time": "2022-11-28T11:52:43.647233Z",
     "start_time": "2022-11-28T11:52:43.623240Z"
    }
   },
   "outputs": [
    {
     "data": {
      "text/plain": [
       "[50, 10, 10.5, 'Hello', True]"
      ]
     },
     "execution_count": 25,
     "metadata": {},
     "output_type": "execute_result"
    }
   ],
   "source": [
    "lst"
   ]
  },
  {
   "cell_type": "code",
   "execution_count": 26,
   "id": "f74dc33b",
   "metadata": {
    "ExecuteTime": {
     "end_time": "2022-11-28T11:53:32.420705Z",
     "start_time": "2022-11-28T11:53:32.409711Z"
    }
   },
   "outputs": [],
   "source": [
    "#reverse"
   ]
  },
  {
   "cell_type": "code",
   "execution_count": 27,
   "id": "5a9fdaa8",
   "metadata": {
    "ExecuteTime": {
     "end_time": "2022-11-28T11:53:42.772774Z",
     "start_time": "2022-11-28T11:53:42.755767Z"
    }
   },
   "outputs": [],
   "source": [
    "lst.reverse()"
   ]
  },
  {
   "cell_type": "code",
   "execution_count": 28,
   "id": "ef14bbe3",
   "metadata": {
    "ExecuteTime": {
     "end_time": "2022-11-28T11:53:49.733493Z",
     "start_time": "2022-11-28T11:53:49.716506Z"
    }
   },
   "outputs": [
    {
     "data": {
      "text/plain": [
       "[True, 'Hello', 10.5, 10, 50]"
      ]
     },
     "execution_count": 28,
     "metadata": {},
     "output_type": "execute_result"
    }
   ],
   "source": [
    "lst"
   ]
  },
  {
   "cell_type": "code",
   "execution_count": 29,
   "id": "0b68c2e2",
   "metadata": {
    "ExecuteTime": {
     "end_time": "2022-11-28T11:54:11.923380Z",
     "start_time": "2022-11-28T11:54:11.902370Z"
    }
   },
   "outputs": [],
   "source": [
    "#remove"
   ]
  },
  {
   "cell_type": "code",
   "execution_count": 30,
   "id": "6b91b3be",
   "metadata": {
    "ExecuteTime": {
     "end_time": "2022-11-28T11:54:26.172975Z",
     "start_time": "2022-11-28T11:54:26.159965Z"
    }
   },
   "outputs": [],
   "source": [
    "lst.remove(10.5)"
   ]
  },
  {
   "cell_type": "code",
   "execution_count": 31,
   "id": "dbf24541",
   "metadata": {
    "ExecuteTime": {
     "end_time": "2022-11-28T11:54:31.518669Z",
     "start_time": "2022-11-28T11:54:31.505677Z"
    }
   },
   "outputs": [
    {
     "data": {
      "text/plain": [
       "[True, 'Hello', 10, 50]"
      ]
     },
     "execution_count": 31,
     "metadata": {},
     "output_type": "execute_result"
    }
   ],
   "source": [
    "lst"
   ]
  },
  {
   "cell_type": "code",
   "execution_count": 32,
   "id": "28f596ea",
   "metadata": {
    "ExecuteTime": {
     "end_time": "2022-11-28T11:55:23.596663Z",
     "start_time": "2022-11-28T11:55:23.577668Z"
    }
   },
   "outputs": [],
   "source": [
    "#replacing element in list"
   ]
  },
  {
   "cell_type": "code",
   "execution_count": 35,
   "id": "dec78951",
   "metadata": {
    "ExecuteTime": {
     "end_time": "2022-11-28T11:57:22.720029Z",
     "start_time": "2022-11-28T11:57:22.707016Z"
    }
   },
   "outputs": [],
   "source": [
    "lst[1]=False"
   ]
  },
  {
   "cell_type": "code",
   "execution_count": 36,
   "id": "2ea69f4e",
   "metadata": {
    "ExecuteTime": {
     "end_time": "2022-11-28T11:57:28.281550Z",
     "start_time": "2022-11-28T11:57:28.259583Z"
    }
   },
   "outputs": [
    {
     "data": {
      "text/plain": [
       "[True, False, 10, 50]"
      ]
     },
     "execution_count": 36,
     "metadata": {},
     "output_type": "execute_result"
    }
   ],
   "source": [
    "lst"
   ]
  },
  {
   "cell_type": "markdown",
   "id": "00337dd4",
   "metadata": {},
   "source": [
    "# Tuple\n",
    "\n",
    "1.Tuples are ordred and heterogeneous data structure.\n",
    "\n",
    "\n",
    "\n",
    "2.Tuples are immutable.\n"
   ]
  },
  {
   "cell_type": "code",
   "execution_count": 41,
   "id": "c87fedef",
   "metadata": {
    "ExecuteTime": {
     "end_time": "2022-11-28T12:07:36.509656Z",
     "start_time": "2022-11-28T12:07:36.492669Z"
    }
   },
   "outputs": [],
   "source": [
    "#Create a tuple\n",
    "\n",
    "t=(10,1.2,'Hi',1000,15.2)"
   ]
  },
  {
   "cell_type": "code",
   "execution_count": 42,
   "id": "629962c6",
   "metadata": {
    "ExecuteTime": {
     "end_time": "2022-11-28T12:07:39.496303Z",
     "start_time": "2022-11-28T12:07:39.480292Z"
    }
   },
   "outputs": [
    {
     "data": {
      "text/plain": [
       "tuple"
      ]
     },
     "execution_count": 42,
     "metadata": {},
     "output_type": "execute_result"
    }
   ],
   "source": [
    "type(t)"
   ]
  },
  {
   "cell_type": "code",
   "execution_count": 43,
   "id": "fd34b206",
   "metadata": {
    "ExecuteTime": {
     "end_time": "2022-11-28T12:07:46.813223Z",
     "start_time": "2022-11-28T12:07:46.805228Z"
    }
   },
   "outputs": [
    {
     "data": {
      "text/plain": [
       "(10, 1.2, 'Hi', 1000, 15.2)"
      ]
     },
     "execution_count": 43,
     "metadata": {},
     "output_type": "execute_result"
    }
   ],
   "source": [
    "t"
   ]
  },
  {
   "cell_type": "code",
   "execution_count": 45,
   "id": "a8bcdc70",
   "metadata": {
    "ExecuteTime": {
     "end_time": "2022-11-28T12:08:36.842439Z",
     "start_time": "2022-11-28T12:08:36.827447Z"
    }
   },
   "outputs": [
    {
     "data": {
      "text/plain": [
       "1"
      ]
     },
     "execution_count": 45,
     "metadata": {},
     "output_type": "execute_result"
    }
   ],
   "source": [
    "t.count(1000)"
   ]
  },
  {
   "cell_type": "code",
   "execution_count": 46,
   "id": "2feeec0e",
   "metadata": {
    "ExecuteTime": {
     "end_time": "2022-11-28T12:09:16.462430Z",
     "start_time": "2022-11-28T12:09:16.455454Z"
    }
   },
   "outputs": [],
   "source": [
    "#Accessing element from tuple"
   ]
  },
  {
   "cell_type": "code",
   "execution_count": 47,
   "id": "9d49ba37",
   "metadata": {
    "ExecuteTime": {
     "end_time": "2022-11-28T12:09:47.948640Z",
     "start_time": "2022-11-28T12:09:47.930633Z"
    }
   },
   "outputs": [
    {
     "data": {
      "text/plain": [
       "15.2"
      ]
     },
     "execution_count": 47,
     "metadata": {},
     "output_type": "execute_result"
    }
   ],
   "source": [
    "t[4]"
   ]
  },
  {
   "cell_type": "code",
   "execution_count": 48,
   "id": "b6ab9636",
   "metadata": {
    "ExecuteTime": {
     "end_time": "2022-11-28T12:10:15.945380Z",
     "start_time": "2022-11-28T12:10:15.924391Z"
    }
   },
   "outputs": [
    {
     "data": {
      "text/plain": [
       "('Hi', 1000, 15.2)"
      ]
     },
     "execution_count": 48,
     "metadata": {},
     "output_type": "execute_result"
    }
   ],
   "source": [
    "t[2:]"
   ]
  },
  {
   "cell_type": "code",
   "execution_count": 49,
   "id": "976cb63e",
   "metadata": {
    "ExecuteTime": {
     "end_time": "2022-11-28T12:10:55.911347Z",
     "start_time": "2022-11-28T12:10:55.894355Z"
    }
   },
   "outputs": [],
   "source": [
    "#Replacing element"
   ]
  },
  {
   "cell_type": "code",
   "execution_count": 50,
   "id": "ab9b3e49",
   "metadata": {
    "ExecuteTime": {
     "end_time": "2022-11-28T12:11:01.924010Z",
     "start_time": "2022-11-28T12:11:01.905038Z"
    }
   },
   "outputs": [
    {
     "data": {
      "text/plain": [
       "(10, 1.2, 'Hi', 1000, 15.2)"
      ]
     },
     "execution_count": 50,
     "metadata": {},
     "output_type": "execute_result"
    }
   ],
   "source": [
    "t"
   ]
  },
  {
   "cell_type": "code",
   "execution_count": 51,
   "id": "0e225dd5",
   "metadata": {
    "ExecuteTime": {
     "end_time": "2022-11-28T12:12:10.351159Z",
     "start_time": "2022-11-28T12:12:10.331170Z"
    }
   },
   "outputs": [],
   "source": [
    "t=list(t)"
   ]
  },
  {
   "cell_type": "code",
   "execution_count": 53,
   "id": "f1e20135",
   "metadata": {
    "ExecuteTime": {
     "end_time": "2022-11-28T12:12:50.750148Z",
     "start_time": "2022-11-28T12:12:50.736156Z"
    }
   },
   "outputs": [
    {
     "data": {
      "text/plain": [
       "list"
      ]
     },
     "execution_count": 53,
     "metadata": {},
     "output_type": "execute_result"
    }
   ],
   "source": [
    "type(t)"
   ]
  },
  {
   "cell_type": "code",
   "execution_count": 55,
   "id": "ffb2d63b",
   "metadata": {
    "ExecuteTime": {
     "end_time": "2022-11-28T12:13:41.459949Z",
     "start_time": "2022-11-28T12:13:41.452957Z"
    }
   },
   "outputs": [],
   "source": [
    "t[4]=200"
   ]
  },
  {
   "cell_type": "code",
   "execution_count": 56,
   "id": "53eeb08e",
   "metadata": {
    "ExecuteTime": {
     "end_time": "2022-11-28T12:13:49.639020Z",
     "start_time": "2022-11-28T12:13:49.623025Z"
    }
   },
   "outputs": [
    {
     "data": {
      "text/plain": [
       "[10, 1.2, 'Hi', 1000, 200]"
      ]
     },
     "execution_count": 56,
     "metadata": {},
     "output_type": "execute_result"
    }
   ],
   "source": [
    "t"
   ]
  },
  {
   "cell_type": "code",
   "execution_count": 57,
   "id": "6555952e",
   "metadata": {
    "ExecuteTime": {
     "end_time": "2022-11-28T12:14:29.423387Z",
     "start_time": "2022-11-28T12:14:29.405396Z"
    }
   },
   "outputs": [],
   "source": [
    "t=tuple(t)"
   ]
  },
  {
   "cell_type": "code",
   "execution_count": 58,
   "id": "d223d297",
   "metadata": {
    "ExecuteTime": {
     "end_time": "2022-11-28T12:14:40.498504Z",
     "start_time": "2022-11-28T12:14:40.476499Z"
    }
   },
   "outputs": [
    {
     "data": {
      "text/plain": [
       "(10, 1.2, 'Hi', 1000, 200)"
      ]
     },
     "execution_count": 58,
     "metadata": {},
     "output_type": "execute_result"
    }
   ],
   "source": [
    "t"
   ]
  },
  {
   "cell_type": "markdown",
   "id": "98aecd70",
   "metadata": {},
   "source": [
    "# Dictionary\n",
    "1.Python dictionaries are ordered collection of items.\n",
    "\n",
    "\n",
    "2.dictionary is mutable.\n",
    "\n",
    "\n",
    "\n",
    "\n",
    "\n",
    "3.It haskey and value pair."
   ]
  },
  {
   "cell_type": "code",
   "execution_count": null,
   "id": "70c5d888",
   "metadata": {},
   "outputs": [],
   "source": [
    "#Creating an empty dictionary"
   ]
  },
  {
   "cell_type": "code",
   "execution_count": 59,
   "id": "9a931bd9",
   "metadata": {
    "ExecuteTime": {
     "end_time": "2022-11-28T12:19:30.838602Z",
     "start_time": "2022-11-28T12:19:30.828612Z"
    }
   },
   "outputs": [],
   "source": [
    "d={}"
   ]
  },
  {
   "cell_type": "code",
   "execution_count": 60,
   "id": "6e6a68cd",
   "metadata": {
    "ExecuteTime": {
     "end_time": "2022-11-28T12:19:39.608224Z",
     "start_time": "2022-11-28T12:19:39.592230Z"
    }
   },
   "outputs": [
    {
     "data": {
      "text/plain": [
       "dict"
      ]
     },
     "execution_count": 60,
     "metadata": {},
     "output_type": "execute_result"
    }
   ],
   "source": [
    "type(d)"
   ]
  },
  {
   "cell_type": "code",
   "execution_count": 61,
   "id": "beab42ea",
   "metadata": {
    "ExecuteTime": {
     "end_time": "2022-11-28T12:21:04.870437Z",
     "start_time": "2022-11-28T12:21:04.855431Z"
    }
   },
   "outputs": [],
   "source": [
    "#Adding element in a dictionary"
   ]
  },
  {
   "cell_type": "code",
   "execution_count": 62,
   "id": "4ba8b3fb",
   "metadata": {
    "ExecuteTime": {
     "end_time": "2022-11-28T12:22:36.319960Z",
     "start_time": "2022-11-28T12:22:36.312961Z"
    }
   },
   "outputs": [],
   "source": [
    "d={1:'A',2:'B',3:100,4:50.2}"
   ]
  },
  {
   "cell_type": "code",
   "execution_count": 63,
   "id": "fd7a1a5b",
   "metadata": {
    "ExecuteTime": {
     "end_time": "2022-11-28T12:23:02.498310Z",
     "start_time": "2022-11-28T12:23:02.484301Z"
    }
   },
   "outputs": [
    {
     "data": {
      "text/plain": [
       "{1: 'A', 2: 'B', 3: 100, 4: 50.2}"
      ]
     },
     "execution_count": 63,
     "metadata": {},
     "output_type": "execute_result"
    }
   ],
   "source": [
    "d"
   ]
  },
  {
   "cell_type": "code",
   "execution_count": 64,
   "id": "79d73658",
   "metadata": {
    "ExecuteTime": {
     "end_time": "2022-11-28T12:24:19.044384Z",
     "start_time": "2022-11-28T12:24:19.038390Z"
    }
   },
   "outputs": [],
   "source": [
    "#get"
   ]
  },
  {
   "cell_type": "code",
   "execution_count": 65,
   "id": "4ad3525c",
   "metadata": {
    "ExecuteTime": {
     "end_time": "2022-11-28T12:24:32.326323Z",
     "start_time": "2022-11-28T12:24:32.311347Z"
    }
   },
   "outputs": [
    {
     "data": {
      "text/plain": [
       "'B'"
      ]
     },
     "execution_count": 65,
     "metadata": {},
     "output_type": "execute_result"
    }
   ],
   "source": [
    "d.get(2)"
   ]
  },
  {
   "cell_type": "code",
   "execution_count": 66,
   "id": "d2a09804",
   "metadata": {
    "ExecuteTime": {
     "end_time": "2022-11-28T12:24:46.818223Z",
     "start_time": "2022-11-28T12:24:46.812592Z"
    }
   },
   "outputs": [],
   "source": [
    "#items"
   ]
  },
  {
   "cell_type": "code",
   "execution_count": 67,
   "id": "f4d21ae3",
   "metadata": {
    "ExecuteTime": {
     "end_time": "2022-11-28T12:25:19.847199Z",
     "start_time": "2022-11-28T12:25:19.829207Z"
    }
   },
   "outputs": [
    {
     "data": {
      "text/plain": [
       "dict_items([(1, 'A'), (2, 'B'), (3, 100), (4, 50.2)])"
      ]
     },
     "execution_count": 67,
     "metadata": {},
     "output_type": "execute_result"
    }
   ],
   "source": [
    "d.items()"
   ]
  },
  {
   "cell_type": "code",
   "execution_count": 68,
   "id": "abf420f6",
   "metadata": {
    "ExecuteTime": {
     "end_time": "2022-11-28T12:25:40.992748Z",
     "start_time": "2022-11-28T12:25:40.973741Z"
    }
   },
   "outputs": [],
   "source": [
    "#keys"
   ]
  },
  {
   "cell_type": "code",
   "execution_count": 69,
   "id": "56026451",
   "metadata": {
    "ExecuteTime": {
     "end_time": "2022-11-28T12:25:56.446480Z",
     "start_time": "2022-11-28T12:25:56.426472Z"
    }
   },
   "outputs": [
    {
     "data": {
      "text/plain": [
       "dict_keys([1, 2, 3, 4])"
      ]
     },
     "execution_count": 69,
     "metadata": {},
     "output_type": "execute_result"
    }
   ],
   "source": [
    "d.keys()"
   ]
  },
  {
   "cell_type": "code",
   "execution_count": 70,
   "id": "4eab3da1",
   "metadata": {
    "ExecuteTime": {
     "end_time": "2022-11-28T12:26:37.993285Z",
     "start_time": "2022-11-28T12:26:37.982276Z"
    }
   },
   "outputs": [],
   "source": [
    "#Adding values in dictionary(update)"
   ]
  },
  {
   "cell_type": "code",
   "execution_count": 72,
   "id": "b214290d",
   "metadata": {
    "ExecuteTime": {
     "end_time": "2022-11-28T12:28:31.915241Z",
     "start_time": "2022-11-28T12:28:31.894247Z"
    }
   },
   "outputs": [],
   "source": [
    "d.update({'car':'BMW'})"
   ]
  },
  {
   "cell_type": "code",
   "execution_count": 73,
   "id": "4f0085cf",
   "metadata": {
    "ExecuteTime": {
     "end_time": "2022-11-28T12:28:47.462515Z",
     "start_time": "2022-11-28T12:28:47.451502Z"
    }
   },
   "outputs": [
    {
     "data": {
      "text/plain": [
       "{1: 'A', 2: 'B', 3: 100, 4: 50.2, 'car': 'BMW'}"
      ]
     },
     "execution_count": 73,
     "metadata": {},
     "output_type": "execute_result"
    }
   ],
   "source": [
    "d"
   ]
  },
  {
   "cell_type": "code",
   "execution_count": 74,
   "id": "0e2fd628",
   "metadata": {
    "ExecuteTime": {
     "end_time": "2022-11-28T12:29:25.002030Z",
     "start_time": "2022-11-28T12:29:24.986018Z"
    }
   },
   "outputs": [],
   "source": [
    "#pop"
   ]
  },
  {
   "cell_type": "code",
   "execution_count": 75,
   "id": "7f6c5a56",
   "metadata": {
    "ExecuteTime": {
     "end_time": "2022-11-28T12:29:35.510542Z",
     "start_time": "2022-11-28T12:29:35.484556Z"
    }
   },
   "outputs": [
    {
     "data": {
      "text/plain": [
       "50.2"
      ]
     },
     "execution_count": 75,
     "metadata": {},
     "output_type": "execute_result"
    }
   ],
   "source": [
    "d.pop(4)"
   ]
  },
  {
   "cell_type": "code",
   "execution_count": 76,
   "id": "19d9a8ca",
   "metadata": {
    "ExecuteTime": {
     "end_time": "2022-11-28T12:30:08.734450Z",
     "start_time": "2022-11-28T12:30:08.713462Z"
    }
   },
   "outputs": [],
   "source": [
    "#values"
   ]
  },
  {
   "cell_type": "code",
   "execution_count": 77,
   "id": "acf2526c",
   "metadata": {
    "ExecuteTime": {
     "end_time": "2022-11-28T12:30:45.651671Z",
     "start_time": "2022-11-28T12:30:45.637677Z"
    }
   },
   "outputs": [
    {
     "data": {
      "text/plain": [
       "dict_values(['A', 'B', 100, 'BMW'])"
      ]
     },
     "execution_count": 77,
     "metadata": {},
     "output_type": "execute_result"
    }
   ],
   "source": [
    "d.values()"
   ]
  },
  {
   "cell_type": "markdown",
   "id": "b01cc7be",
   "metadata": {},
   "source": [
    "# Set\n",
    "1.Set is a collection which is unordered, unindexed.\n",
    "\n",
    "\n",
    "2.Set is mutable.\n",
    "\n",
    "\n",
    "3.Set is unordered so that you cant be sure in which order the items will appear\n",
    "\n",
    "\n",
    "4.Sets do not allow duplicates value.\n",
    "\n",
    "\n",
    "5.Once a set is created, you cant change its item but you can remove items or add a new items.\n",
    "\n",
    "\n",
    "6.As a setS are unorderd,THEY DO NOT SUPPORT INDEXING AND SLICING.\n",
    "\n"
   ]
  },
  {
   "cell_type": "code",
   "execution_count": 78,
   "id": "ded0dd4f",
   "metadata": {
    "ExecuteTime": {
     "end_time": "2022-11-28T12:52:13.228155Z",
     "start_time": "2022-11-28T12:52:13.210388Z"
    }
   },
   "outputs": [],
   "source": [
    "#Creating an empty set"
   ]
  },
  {
   "cell_type": "code",
   "execution_count": 83,
   "id": "084a7897",
   "metadata": {
    "ExecuteTime": {
     "end_time": "2022-11-28T12:55:32.026576Z",
     "start_time": "2022-11-28T12:55:32.015319Z"
    }
   },
   "outputs": [
    {
     "data": {
      "text/plain": [
       "{1, 10.5, 2, 3, 'A'}"
      ]
     },
     "execution_count": 83,
     "metadata": {},
     "output_type": "execute_result"
    }
   ],
   "source": [
    "s={1,2,3,'A',10.5}\n",
    "s=set(s)\n",
    "type(s)\n",
    "s"
   ]
  },
  {
   "cell_type": "code",
   "execution_count": 84,
   "id": "7634b61d",
   "metadata": {
    "ExecuteTime": {
     "end_time": "2022-11-28T12:56:15.532056Z",
     "start_time": "2022-11-28T12:56:15.523061Z"
    }
   },
   "outputs": [],
   "source": [
    "#Does not allow duplicate items"
   ]
  },
  {
   "cell_type": "code",
   "execution_count": 85,
   "id": "bca2604f",
   "metadata": {
    "ExecuteTime": {
     "end_time": "2022-11-28T12:56:54.739379Z",
     "start_time": "2022-11-28T12:56:54.730380Z"
    }
   },
   "outputs": [],
   "source": [
    "s1={1,1,2,2,3,4}"
   ]
  },
  {
   "cell_type": "code",
   "execution_count": 87,
   "id": "a960df63",
   "metadata": {
    "ExecuteTime": {
     "end_time": "2022-11-28T12:57:06.174567Z",
     "start_time": "2022-11-28T12:57:06.151576Z"
    }
   },
   "outputs": [
    {
     "data": {
      "text/plain": [
       "{1, 2, 3, 4}"
      ]
     },
     "execution_count": 87,
     "metadata": {},
     "output_type": "execute_result"
    }
   ],
   "source": [
    "s1"
   ]
  },
  {
   "cell_type": "code",
   "execution_count": 88,
   "id": "b6d7a8ea",
   "metadata": {
    "ExecuteTime": {
     "end_time": "2022-11-28T12:58:20.038739Z",
     "start_time": "2022-11-28T12:58:20.019747Z"
    }
   },
   "outputs": [],
   "source": [
    "#Does not support indexing"
   ]
  },
  {
   "cell_type": "code",
   "execution_count": 89,
   "id": "90bd61cd",
   "metadata": {
    "ExecuteTime": {
     "end_time": "2022-11-28T12:58:25.790012Z",
     "start_time": "2022-11-28T12:58:25.775019Z"
    }
   },
   "outputs": [
    {
     "data": {
      "text/plain": [
       "{1, 10.5, 2, 3, 'A'}"
      ]
     },
     "execution_count": 89,
     "metadata": {},
     "output_type": "execute_result"
    }
   ],
   "source": [
    "s"
   ]
  },
  {
   "cell_type": "code",
   "execution_count": 90,
   "id": "89650f15",
   "metadata": {
    "ExecuteTime": {
     "end_time": "2022-11-28T12:58:45.182909Z",
     "start_time": "2022-11-28T12:58:45.163937Z"
    }
   },
   "outputs": [
    {
     "ename": "TypeError",
     "evalue": "'set' object is not subscriptable",
     "output_type": "error",
     "traceback": [
      "\u001b[1;31m---------------------------------------------------------------------------\u001b[0m",
      "\u001b[1;31mTypeError\u001b[0m                                 Traceback (most recent call last)",
      "\u001b[1;32m~\\AppData\\Local\\Temp\\ipykernel_9624\\878419959.py\u001b[0m in \u001b[0;36m<module>\u001b[1;34m\u001b[0m\n\u001b[1;32m----> 1\u001b[1;33m \u001b[0ms\u001b[0m\u001b[1;33m[\u001b[0m\u001b[1;36m1\u001b[0m\u001b[1;33m]\u001b[0m\u001b[1;33m\u001b[0m\u001b[1;33m\u001b[0m\u001b[0m\n\u001b[0m",
      "\u001b[1;31mTypeError\u001b[0m: 'set' object is not subscriptable"
     ]
    }
   ],
   "source": [
    "s[1]"
   ]
  },
  {
   "cell_type": "code",
   "execution_count": 91,
   "id": "71978d09",
   "metadata": {
    "ExecuteTime": {
     "end_time": "2022-11-28T12:59:11.924187Z",
     "start_time": "2022-11-28T12:59:11.911190Z"
    }
   },
   "outputs": [],
   "source": [
    "#Add"
   ]
  },
  {
   "cell_type": "code",
   "execution_count": 92,
   "id": "38abfc47",
   "metadata": {
    "ExecuteTime": {
     "end_time": "2022-11-28T12:59:44.566116Z",
     "start_time": "2022-11-28T12:59:44.552121Z"
    }
   },
   "outputs": [],
   "source": [
    "s.add(100)"
   ]
  },
  {
   "cell_type": "code",
   "execution_count": 93,
   "id": "a9afd7d7",
   "metadata": {
    "ExecuteTime": {
     "end_time": "2022-11-28T12:59:49.573754Z",
     "start_time": "2022-11-28T12:59:49.554766Z"
    }
   },
   "outputs": [
    {
     "data": {
      "text/plain": [
       "{1, 10.5, 100, 2, 3, 'A'}"
      ]
     },
     "execution_count": 93,
     "metadata": {},
     "output_type": "execute_result"
    }
   ],
   "source": [
    "s"
   ]
  },
  {
   "cell_type": "code",
   "execution_count": 94,
   "id": "a1dfa000",
   "metadata": {
    "ExecuteTime": {
     "end_time": "2022-11-28T13:01:41.277792Z",
     "start_time": "2022-11-28T13:01:41.263803Z"
    }
   },
   "outputs": [],
   "source": [
    "a={'apple','mango','cherry'}\n",
    "b={'microsoft','goggle','cherry'}"
   ]
  },
  {
   "cell_type": "code",
   "execution_count": 95,
   "id": "15fff2fc",
   "metadata": {
    "ExecuteTime": {
     "end_time": "2022-11-28T13:02:18.996331Z",
     "start_time": "2022-11-28T13:02:18.981338Z"
    }
   },
   "outputs": [],
   "source": [
    "#Difference"
   ]
  },
  {
   "cell_type": "code",
   "execution_count": 99,
   "id": "a7b38126",
   "metadata": {
    "ExecuteTime": {
     "end_time": "2022-11-28T13:03:29.373088Z",
     "start_time": "2022-11-28T13:03:29.351102Z"
    }
   },
   "outputs": [
    {
     "data": {
      "text/plain": [
       "{'apple', 'mango'}"
      ]
     },
     "execution_count": 99,
     "metadata": {},
     "output_type": "execute_result"
    }
   ],
   "source": [
    "a.difference(b)"
   ]
  },
  {
   "cell_type": "code",
   "execution_count": 96,
   "id": "7aff810c",
   "metadata": {
    "ExecuteTime": {
     "end_time": "2022-11-28T13:02:36.121542Z",
     "start_time": "2022-11-28T13:02:36.101555Z"
    }
   },
   "outputs": [],
   "source": [
    "#Intersection"
   ]
  },
  {
   "cell_type": "code",
   "execution_count": 100,
   "id": "cc50f3f1",
   "metadata": {
    "ExecuteTime": {
     "end_time": "2022-11-28T13:03:58.209329Z",
     "start_time": "2022-11-28T13:03:58.194187Z"
    }
   },
   "outputs": [
    {
     "data": {
      "text/plain": [
       "{'cherry'}"
      ]
     },
     "execution_count": 100,
     "metadata": {},
     "output_type": "execute_result"
    }
   ],
   "source": [
    "a.intersection(b)"
   ]
  },
  {
   "cell_type": "code",
   "execution_count": 101,
   "id": "fbe7d963",
   "metadata": {
    "ExecuteTime": {
     "end_time": "2022-11-28T13:04:11.442740Z",
     "start_time": "2022-11-28T13:04:11.421755Z"
    }
   },
   "outputs": [
    {
     "data": {
      "text/plain": [
       "{'cherry'}"
      ]
     },
     "execution_count": 101,
     "metadata": {},
     "output_type": "execute_result"
    }
   ],
   "source": [
    "b.intersection(a)"
   ]
  },
  {
   "cell_type": "code",
   "execution_count": 97,
   "id": "461b7e3c",
   "metadata": {
    "ExecuteTime": {
     "end_time": "2022-11-28T13:02:48.664699Z",
     "start_time": "2022-11-28T13:02:48.657707Z"
    }
   },
   "outputs": [],
   "source": [
    "#Union"
   ]
  },
  {
   "cell_type": "code",
   "execution_count": 102,
   "id": "b9525d7c",
   "metadata": {
    "ExecuteTime": {
     "end_time": "2022-11-28T13:04:25.143957Z",
     "start_time": "2022-11-28T13:04:25.122969Z"
    }
   },
   "outputs": [
    {
     "data": {
      "text/plain": [
       "{'apple', 'cherry', 'goggle', 'mango', 'microsoft'}"
      ]
     },
     "execution_count": 102,
     "metadata": {},
     "output_type": "execute_result"
    }
   ],
   "source": [
    "a.union(b)"
   ]
  },
  {
   "cell_type": "code",
   "execution_count": 103,
   "id": "9d05d09f",
   "metadata": {
    "ExecuteTime": {
     "end_time": "2022-11-28T13:04:38.745362Z",
     "start_time": "2022-11-28T13:04:38.727372Z"
    }
   },
   "outputs": [
    {
     "data": {
      "text/plain": [
       "{'apple', 'cherry', 'goggle', 'mango', 'microsoft'}"
      ]
     },
     "execution_count": 103,
     "metadata": {},
     "output_type": "execute_result"
    }
   ],
   "source": [
    "b.union(a)"
   ]
  },
  {
   "cell_type": "code",
   "execution_count": 104,
   "id": "9f7d3c07",
   "metadata": {
    "ExecuteTime": {
     "end_time": "2022-11-28T13:06:15.559393Z",
     "start_time": "2022-11-28T13:06:15.548397Z"
    }
   },
   "outputs": [],
   "source": [
    "#pop"
   ]
  },
  {
   "cell_type": "code",
   "execution_count": 110,
   "id": "a9616aa6",
   "metadata": {
    "ExecuteTime": {
     "end_time": "2022-11-28T13:08:21.805034Z",
     "start_time": "2022-11-28T13:08:21.786030Z"
    }
   },
   "outputs": [
    {
     "data": {
      "text/plain": [
       "'apple'"
      ]
     },
     "execution_count": 110,
     "metadata": {},
     "output_type": "execute_result"
    }
   ],
   "source": [
    "a.pop()"
   ]
  },
  {
   "cell_type": "code",
   "execution_count": 108,
   "id": "f2b95d16",
   "metadata": {
    "ExecuteTime": {
     "end_time": "2022-11-28T13:08:12.513720Z",
     "start_time": "2022-11-28T13:08:12.495728Z"
    }
   },
   "outputs": [
    {
     "data": {
      "text/plain": [
       "'microsoft'"
      ]
     },
     "execution_count": 108,
     "metadata": {},
     "output_type": "execute_result"
    }
   ],
   "source": [
    "b.pop()"
   ]
  },
  {
   "cell_type": "code",
   "execution_count": null,
   "id": "8c108b71",
   "metadata": {},
   "outputs": [],
   "source": []
  }
 ],
 "metadata": {
  "kernelspec": {
   "display_name": "Python 3 (ipykernel)",
   "language": "python",
   "name": "python3"
  },
  "language_info": {
   "codemirror_mode": {
    "name": "ipython",
    "version": 3
   },
   "file_extension": ".py",
   "mimetype": "text/x-python",
   "name": "python",
   "nbconvert_exporter": "python",
   "pygments_lexer": "ipython3",
   "version": "3.9.13"
  }
 },
 "nbformat": 4,
 "nbformat_minor": 5
}
