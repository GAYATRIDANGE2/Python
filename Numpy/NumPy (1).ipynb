{
 "cells": [
  {
   "cell_type": "markdown",
   "id": "775fc7dd",
   "metadata": {},
   "source": [
    "# Numpy\n",
    "1.Numpy is a general purpose array proceesing packages.\n",
    "\n",
    "\n",
    "2.Numpy was created to work with multidimensional arrays.\n",
    "\n",
    "\n",
    "3.It is the fundamental package for scientific computing\n"
   ]
  },
  {
   "cell_type": "code",
   "execution_count": 2,
   "id": "78375f8e",
   "metadata": {},
   "outputs": [
    {
     "name": "stdout",
     "output_type": "stream",
     "text": [
      "3.9.13 (main, Aug 25 2022, 23:51:50) [MSC v.1916 64 bit (AMD64)]\n"
     ]
    }
   ],
   "source": []
  },
  {
   "cell_type": "code",
   "execution_count": 3,
   "id": "bc0bf77c",
   "metadata": {},
   "outputs": [],
   "source": []
  },
  {
   "cell_type": "code",
   "execution_count": 2,
   "id": "72b51bd3",
   "metadata": {
    "ExecuteTime": {
     "end_time": "2022-11-29T04:52:27.981556Z",
     "start_time": "2022-11-29T04:52:19.214968Z"
    }
   },
   "outputs": [
    {
     "name": "stdout",
     "output_type": "stream",
     "text": [
      "Defaulting to user installation because normal site-packages is not writeable\n",
      "Requirement already satisfied: NumPy in c:\\programdata\\anaconda3\\lib\\site-packages (1.21.5)\n"
     ]
    }
   ],
   "source": [
    "!pip install NumPy\n",
    "\n",
    "import numpy as np"
   ]
  },
  {
   "cell_type": "code",
   "execution_count": 5,
   "id": "407c8931",
   "metadata": {
    "ExecuteTime": {
     "end_time": "2022-11-29T05:44:23.331033Z",
     "start_time": "2022-11-29T05:44:23.305028Z"
    }
   },
   "outputs": [
    {
     "data": {
      "text/plain": [
       "numpy.ndarray"
      ]
     },
     "execution_count": 5,
     "metadata": {},
     "output_type": "execute_result"
    }
   ],
   "source": [
    "#Array creation\n",
    "a=np.array(10)\n",
    "type(a)\n"
   ]
  },
  {
   "cell_type": "code",
   "execution_count": 6,
   "id": "4abe9ac1",
   "metadata": {
    "ExecuteTime": {
     "end_time": "2022-11-29T05:45:18.858095Z",
     "start_time": "2022-11-29T05:45:18.844104Z"
    }
   },
   "outputs": [],
   "source": [
    "#Zero dimensional array\n"
   ]
  },
  {
   "cell_type": "code",
   "execution_count": 8,
   "id": "07e0824f",
   "metadata": {
    "ExecuteTime": {
     "end_time": "2022-11-29T05:46:04.557465Z",
     "start_time": "2022-11-29T05:46:04.544474Z"
    }
   },
   "outputs": [
    {
     "data": {
      "text/plain": [
       "0"
      ]
     },
     "execution_count": 8,
     "metadata": {},
     "output_type": "execute_result"
    }
   ],
   "source": [
    "z=np.array(10)\n",
    "\n",
    "z.ndim"
   ]
  },
  {
   "cell_type": "code",
   "execution_count": 9,
   "id": "03daecda",
   "metadata": {
    "ExecuteTime": {
     "end_time": "2022-11-29T05:46:35.271970Z",
     "start_time": "2022-11-29T05:46:35.256980Z"
    }
   },
   "outputs": [],
   "source": [
    "#One dimensional array"
   ]
  },
  {
   "cell_type": "code",
   "execution_count": 10,
   "id": "9655c551",
   "metadata": {
    "ExecuteTime": {
     "end_time": "2022-11-29T05:47:25.896082Z",
     "start_time": "2022-11-29T05:47:25.885087Z"
    }
   },
   "outputs": [
    {
     "data": {
      "text/plain": [
       "1"
      ]
     },
     "execution_count": 10,
     "metadata": {},
     "output_type": "execute_result"
    }
   ],
   "source": [
    "o=np.array([10,12,14,16])\n",
    "o.ndim"
   ]
  },
  {
   "cell_type": "code",
   "execution_count": 11,
   "id": "7b63da47",
   "metadata": {
    "ExecuteTime": {
     "end_time": "2022-11-29T05:47:42.366097Z",
     "start_time": "2022-11-29T05:47:42.342113Z"
    }
   },
   "outputs": [],
   "source": [
    "#Two dimensional array"
   ]
  },
  {
   "cell_type": "code",
   "execution_count": 12,
   "id": "db973e02",
   "metadata": {
    "ExecuteTime": {
     "end_time": "2022-11-29T05:48:25.798105Z",
     "start_time": "2022-11-29T05:48:25.784113Z"
    }
   },
   "outputs": [
    {
     "data": {
      "text/plain": [
       "2"
      ]
     },
     "execution_count": 12,
     "metadata": {},
     "output_type": "execute_result"
    }
   ],
   "source": [
    "t=np.array([[10,12,13,14]])\n",
    "t.ndim"
   ]
  },
  {
   "cell_type": "code",
   "execution_count": 13,
   "id": "06559c50",
   "metadata": {
    "ExecuteTime": {
     "end_time": "2022-11-29T05:48:50.902104Z",
     "start_time": "2022-11-29T05:48:50.884112Z"
    }
   },
   "outputs": [],
   "source": [
    "#Three dimensional array"
   ]
  },
  {
   "cell_type": "code",
   "execution_count": 15,
   "id": "20ad006b",
   "metadata": {
    "ExecuteTime": {
     "end_time": "2022-11-29T05:50:01.093468Z",
     "start_time": "2022-11-29T05:50:01.073460Z"
    }
   },
   "outputs": [
    {
     "data": {
      "text/plain": [
       "3"
      ]
     },
     "execution_count": 15,
     "metadata": {},
     "output_type": "execute_result"
    }
   ],
   "source": [
    "th=np.array([[[10,11,15,16]]])\n",
    "th.ndim"
   ]
  },
  {
   "cell_type": "code",
   "execution_count": 16,
   "id": "a662e982",
   "metadata": {
    "ExecuteTime": {
     "end_time": "2022-11-29T05:50:37.789223Z",
     "start_time": "2022-11-29T05:50:37.777229Z"
    }
   },
   "outputs": [],
   "source": [
    "#Change the data type of the array elements"
   ]
  },
  {
   "cell_type": "code",
   "execution_count": 17,
   "id": "4a020fae",
   "metadata": {
    "ExecuteTime": {
     "end_time": "2022-11-29T05:51:25.250231Z",
     "start_time": "2022-11-29T05:51:25.234226Z"
    }
   },
   "outputs": [],
   "source": [
    "a=np.array([10,15,54,30])"
   ]
  },
  {
   "cell_type": "code",
   "execution_count": 18,
   "id": "e886dfa1",
   "metadata": {
    "ExecuteTime": {
     "end_time": "2022-11-29T05:51:31.910064Z",
     "start_time": "2022-11-29T05:51:31.866072Z"
    }
   },
   "outputs": [
    {
     "data": {
      "text/plain": [
       "dtype('int32')"
      ]
     },
     "execution_count": 18,
     "metadata": {},
     "output_type": "execute_result"
    }
   ],
   "source": [
    "a.dtype"
   ]
  },
  {
   "cell_type": "code",
   "execution_count": 20,
   "id": "e5629830",
   "metadata": {
    "ExecuteTime": {
     "end_time": "2022-11-29T05:53:10.164979Z",
     "start_time": "2022-11-29T05:53:10.042255Z"
    }
   },
   "outputs": [
    {
     "name": "stdout",
     "output_type": "stream",
     "text": [
      "float64\n"
     ]
    },
    {
     "data": {
      "text/plain": [
       "array([10., 14., 54., 30.])"
      ]
     },
     "execution_count": 20,
     "metadata": {},
     "output_type": "execute_result"
    }
   ],
   "source": [
    "a=np.array([10,14,54,30],dtype='float')\n",
    "print(a.dtype)\n",
    "a"
   ]
  },
  {
   "cell_type": "code",
   "execution_count": null,
   "id": "190fef66",
   "metadata": {},
   "outputs": [],
   "source": []
  },
  {
   "cell_type": "code",
   "execution_count": 23,
   "id": "551b6507",
   "metadata": {
    "ExecuteTime": {
     "end_time": "2022-11-29T05:55:03.098659Z",
     "start_time": "2022-11-29T05:55:03.073670Z"
    }
   },
   "outputs": [
    {
     "data": {
      "text/plain": [
       "array([ 1,  3,  5,  7,  9, 11, 13, 15, 17, 19])"
      ]
     },
     "execution_count": 23,
     "metadata": {},
     "output_type": "execute_result"
    }
   ],
   "source": [
    "a=np.arange(1,21,2)\n",
    "a"
   ]
  },
  {
   "cell_type": "code",
   "execution_count": 25,
   "id": "3de77daf",
   "metadata": {
    "ExecuteTime": {
     "end_time": "2022-11-29T05:56:31.882553Z",
     "start_time": "2022-11-29T05:56:31.864557Z"
    }
   },
   "outputs": [
    {
     "data": {
      "text/plain": [
       "(array([1.        , 1.28571429, 1.57142857, 1.85714286, 2.14285714,\n",
       "        2.42857143, 2.71428571, 3.        , 3.28571429, 3.57142857,\n",
       "        3.85714286, 4.14285714, 4.42857143, 4.71428571, 5.        ]),\n",
       " 0.2857142857142857)"
      ]
     },
     "execution_count": 25,
     "metadata": {},
     "output_type": "execute_result"
    }
   ],
   "source": [
    "b=np.linspace(1,5,15,retstep=True)\n",
    "b"
   ]
  },
  {
   "cell_type": "code",
   "execution_count": 27,
   "id": "f02a021a",
   "metadata": {
    "ExecuteTime": {
     "end_time": "2022-11-29T05:57:36.652305Z",
     "start_time": "2022-11-29T05:57:36.633314Z"
    }
   },
   "outputs": [
    {
     "data": {
      "text/plain": [
       "array([[0., 0.],\n",
       "       [0., 0.]])"
      ]
     },
     "execution_count": 27,
     "metadata": {},
     "output_type": "execute_result"
    }
   ],
   "source": [
    "z=np.zeros([2,2])\n",
    "z"
   ]
  },
  {
   "cell_type": "code",
   "execution_count": 28,
   "id": "eef716e8",
   "metadata": {
    "ExecuteTime": {
     "end_time": "2022-11-29T05:58:23.194483Z",
     "start_time": "2022-11-29T05:58:23.169479Z"
    }
   },
   "outputs": [
    {
     "data": {
      "text/plain": [
       "array([[1., 1., 1., 1., 1.],\n",
       "       [1., 1., 1., 1., 1.],\n",
       "       [1., 1., 1., 1., 1.],\n",
       "       [1., 1., 1., 1., 1.],\n",
       "       [1., 1., 1., 1., 1.]])"
      ]
     },
     "execution_count": 28,
     "metadata": {},
     "output_type": "execute_result"
    }
   ],
   "source": [
    "o=np.ones([5,5])\n",
    "o"
   ]
  },
  {
   "cell_type": "code",
   "execution_count": 29,
   "id": "0a1c3932",
   "metadata": {
    "ExecuteTime": {
     "end_time": "2022-11-29T05:59:40.732006Z",
     "start_time": "2022-11-29T05:59:40.639065Z"
    }
   },
   "outputs": [
    {
     "data": {
      "text/plain": [
       "array([[0.8032822 , 0.58389113, 0.79858271, 0.09186503, 0.55384981],\n",
       "       [0.33582043, 0.02998858, 0.61965757, 0.65685546, 0.65981804],\n",
       "       [0.62215624, 0.3048183 , 0.83319347, 0.34287842, 0.26721866],\n",
       "       [0.59035216, 0.39482303, 0.29340822, 0.98870655, 0.37782675],\n",
       "       [0.8257936 , 0.67318229, 0.0437512 , 0.4919358 , 0.05417524]])"
      ]
     },
     "execution_count": 29,
     "metadata": {},
     "output_type": "execute_result"
    }
   ],
   "source": [
    "r=np.random.rand(5,5)\n",
    "r"
   ]
  },
  {
   "cell_type": "code",
   "execution_count": 31,
   "id": "3370cbb2",
   "metadata": {
    "ExecuteTime": {
     "end_time": "2022-11-29T06:00:52.425831Z",
     "start_time": "2022-11-29T06:00:52.402844Z"
    }
   },
   "outputs": [
    {
     "data": {
      "text/plain": [
       "array([0, 2, 4, 0, 1, 2, 2, 2, 0, 2])"
      ]
     },
     "execution_count": 31,
     "metadata": {},
     "output_type": "execute_result"
    }
   ],
   "source": [
    "r=np.random.randint(5,size=10)\n",
    "r"
   ]
  },
  {
   "cell_type": "markdown",
   "id": "c1ef675f",
   "metadata": {},
   "source": [
    "# Slicing and indexing of arrays"
   ]
  },
  {
   "cell_type": "code",
   "execution_count": 32,
   "id": "2d08cac8",
   "metadata": {
    "ExecuteTime": {
     "end_time": "2022-11-29T06:03:45.628388Z",
     "start_time": "2022-11-29T06:03:45.608401Z"
    }
   },
   "outputs": [],
   "source": [
    "a=np.array([[1,2,3],[4,5,6]])"
   ]
  },
  {
   "cell_type": "code",
   "execution_count": 33,
   "id": "59817150",
   "metadata": {
    "ExecuteTime": {
     "end_time": "2022-11-29T06:03:49.333751Z",
     "start_time": "2022-11-29T06:03:49.312747Z"
    }
   },
   "outputs": [
    {
     "data": {
      "text/plain": [
       "array([[1, 2, 3],\n",
       "       [4, 5, 6]])"
      ]
     },
     "execution_count": 33,
     "metadata": {},
     "output_type": "execute_result"
    }
   ],
   "source": [
    "a"
   ]
  },
  {
   "cell_type": "code",
   "execution_count": 34,
   "id": "363c4583",
   "metadata": {
    "ExecuteTime": {
     "end_time": "2022-11-29T06:04:08.460623Z",
     "start_time": "2022-11-29T06:04:08.438631Z"
    }
   },
   "outputs": [
    {
     "data": {
      "text/plain": [
       "1"
      ]
     },
     "execution_count": 34,
     "metadata": {},
     "output_type": "execute_result"
    }
   ],
   "source": [
    "a[0,0]"
   ]
  },
  {
   "cell_type": "code",
   "execution_count": 35,
   "id": "6a89bde0",
   "metadata": {
    "ExecuteTime": {
     "end_time": "2022-11-29T06:04:18.742116Z",
     "start_time": "2022-11-29T06:04:18.726121Z"
    }
   },
   "outputs": [
    {
     "data": {
      "text/plain": [
       "6"
      ]
     },
     "execution_count": 35,
     "metadata": {},
     "output_type": "execute_result"
    }
   ],
   "source": [
    "a[1,2]"
   ]
  },
  {
   "cell_type": "code",
   "execution_count": 36,
   "id": "3c3acba1",
   "metadata": {
    "ExecuteTime": {
     "end_time": "2022-11-29T06:04:37.177562Z",
     "start_time": "2022-11-29T06:04:37.164574Z"
    }
   },
   "outputs": [
    {
     "data": {
      "text/plain": [
       "array([[1, 2, 3],\n",
       "       [4, 5, 6]])"
      ]
     },
     "execution_count": 36,
     "metadata": {},
     "output_type": "execute_result"
    }
   ],
   "source": [
    "a"
   ]
  },
  {
   "cell_type": "code",
   "execution_count": 37,
   "id": "02f02448",
   "metadata": {
    "ExecuteTime": {
     "end_time": "2022-11-29T06:05:30.888384Z",
     "start_time": "2022-11-29T06:05:30.874409Z"
    }
   },
   "outputs": [
    {
     "data": {
      "text/plain": [
       "array([2, 3])"
      ]
     },
     "execution_count": 37,
     "metadata": {},
     "output_type": "execute_result"
    }
   ],
   "source": [
    "a[0,1:]"
   ]
  },
  {
   "cell_type": "code",
   "execution_count": 38,
   "id": "9e0adb7b",
   "metadata": {
    "ExecuteTime": {
     "end_time": "2022-11-29T06:06:00.137644Z",
     "start_time": "2022-11-29T06:06:00.073161Z"
    }
   },
   "outputs": [
    {
     "data": {
      "text/plain": [
       "array([[2, 3],\n",
       "       [5, 6]])"
      ]
     },
     "execution_count": 38,
     "metadata": {},
     "output_type": "execute_result"
    }
   ],
   "source": [
    "a[0:,1:]"
   ]
  },
  {
   "cell_type": "code",
   "execution_count": 39,
   "id": "95d79ecd",
   "metadata": {
    "ExecuteTime": {
     "end_time": "2022-11-29T06:06:16.202625Z",
     "start_time": "2022-11-29T06:06:16.178617Z"
    }
   },
   "outputs": [
    {
     "data": {
      "text/plain": [
       "array([[1, 2, 3],\n",
       "       [4, 5, 6]])"
      ]
     },
     "execution_count": 39,
     "metadata": {},
     "output_type": "execute_result"
    }
   ],
   "source": [
    "a"
   ]
  },
  {
   "cell_type": "code",
   "execution_count": 40,
   "id": "60461148",
   "metadata": {
    "ExecuteTime": {
     "end_time": "2022-11-29T06:06:37.751651Z",
     "start_time": "2022-11-29T06:06:37.733642Z"
    }
   },
   "outputs": [],
   "source": [
    "#1 and 6"
   ]
  },
  {
   "cell_type": "code",
   "execution_count": 41,
   "id": "cb72a6c3",
   "metadata": {
    "ExecuteTime": {
     "end_time": "2022-11-29T06:08:37.443558Z",
     "start_time": "2022-11-29T06:08:37.357592Z"
    }
   },
   "outputs": [
    {
     "data": {
      "text/plain": [
       "array([1, 6])"
      ]
     },
     "execution_count": 41,
     "metadata": {},
     "output_type": "execute_result"
    }
   ],
   "source": [
    "a[[0,1],[0,2]]"
   ]
  },
  {
   "cell_type": "code",
   "execution_count": 42,
   "id": "2322bd58",
   "metadata": {
    "ExecuteTime": {
     "end_time": "2022-11-29T06:08:56.844527Z",
     "start_time": "2022-11-29T06:08:56.826533Z"
    }
   },
   "outputs": [],
   "source": [
    "#3 and 4"
   ]
  },
  {
   "cell_type": "code",
   "execution_count": 43,
   "id": "3419a65e",
   "metadata": {
    "ExecuteTime": {
     "end_time": "2022-11-29T06:09:25.859383Z",
     "start_time": "2022-11-29T06:09:25.833398Z"
    }
   },
   "outputs": [
    {
     "data": {
      "text/plain": [
       "array([3, 4])"
      ]
     },
     "execution_count": 43,
     "metadata": {},
     "output_type": "execute_result"
    }
   ],
   "source": [
    "a[[0,1],[2,0]]"
   ]
  },
  {
   "cell_type": "markdown",
   "id": "73e23b5f",
   "metadata": {},
   "source": [
    "# Reshaping the array"
   ]
  },
  {
   "cell_type": "code",
   "execution_count": 44,
   "id": "a26a4fc9",
   "metadata": {
    "ExecuteTime": {
     "end_time": "2022-11-29T06:10:39.377766Z",
     "start_time": "2022-11-29T06:10:39.362774Z"
    }
   },
   "outputs": [],
   "source": [
    "a=np.random.rand(5,2)"
   ]
  },
  {
   "cell_type": "code",
   "execution_count": 45,
   "id": "14f22d3f",
   "metadata": {
    "ExecuteTime": {
     "end_time": "2022-11-29T06:10:48.563529Z",
     "start_time": "2022-11-29T06:10:48.549525Z"
    }
   },
   "outputs": [
    {
     "data": {
      "text/plain": [
       "array([[0.97019496, 0.65259919],\n",
       "       [0.77515162, 0.13541421],\n",
       "       [0.72075484, 0.03285351],\n",
       "       [0.47087718, 0.4191421 ],\n",
       "       [0.97095183, 0.55394243]])"
      ]
     },
     "execution_count": 45,
     "metadata": {},
     "output_type": "execute_result"
    }
   ],
   "source": [
    "a"
   ]
  },
  {
   "cell_type": "code",
   "execution_count": 46,
   "id": "433f65f6",
   "metadata": {
    "ExecuteTime": {
     "end_time": "2022-11-29T06:11:13.429641Z",
     "start_time": "2022-11-29T06:11:13.407632Z"
    }
   },
   "outputs": [
    {
     "data": {
      "text/plain": [
       "array([[0.97019496, 0.65259919, 0.77515162, 0.13541421, 0.72075484],\n",
       "       [0.03285351, 0.47087718, 0.4191421 , 0.97095183, 0.55394243]])"
      ]
     },
     "execution_count": 46,
     "metadata": {},
     "output_type": "execute_result"
    }
   ],
   "source": [
    "a.reshape(2,5)"
   ]
  },
  {
   "cell_type": "code",
   "execution_count": 47,
   "id": "c1adf797",
   "metadata": {
    "ExecuteTime": {
     "end_time": "2022-11-29T06:11:37.557404Z",
     "start_time": "2022-11-29T06:11:37.533421Z"
    }
   },
   "outputs": [
    {
     "data": {
      "text/plain": [
       "array([[0.97019496],\n",
       "       [0.65259919],\n",
       "       [0.77515162],\n",
       "       [0.13541421],\n",
       "       [0.72075484],\n",
       "       [0.03285351],\n",
       "       [0.47087718],\n",
       "       [0.4191421 ],\n",
       "       [0.97095183],\n",
       "       [0.55394243]])"
      ]
     },
     "execution_count": 47,
     "metadata": {},
     "output_type": "execute_result"
    }
   ],
   "source": [
    "a.reshape(10,1)"
   ]
  },
  {
   "cell_type": "code",
   "execution_count": 48,
   "id": "c2e57eb3",
   "metadata": {
    "ExecuteTime": {
     "end_time": "2022-11-29T06:12:02.281674Z",
     "start_time": "2022-11-29T06:12:02.270679Z"
    }
   },
   "outputs": [
    {
     "data": {
      "text/plain": [
       "array([[0.97019496, 0.65259919, 0.77515162, 0.13541421, 0.72075484,\n",
       "        0.03285351, 0.47087718, 0.4191421 , 0.97095183, 0.55394243]])"
      ]
     },
     "execution_count": 48,
     "metadata": {},
     "output_type": "execute_result"
    }
   ],
   "source": [
    "a.reshape(1,10)"
   ]
  },
  {
   "cell_type": "code",
   "execution_count": 49,
   "id": "9bf9d147",
   "metadata": {
    "ExecuteTime": {
     "end_time": "2022-11-29T06:12:22.831035Z",
     "start_time": "2022-11-29T06:12:22.811031Z"
    }
   },
   "outputs": [
    {
     "data": {
      "text/plain": [
       "array([[0.97019496, 0.65259919],\n",
       "       [0.77515162, 0.13541421],\n",
       "       [0.72075484, 0.03285351],\n",
       "       [0.47087718, 0.4191421 ],\n",
       "       [0.97095183, 0.55394243]])"
      ]
     },
     "execution_count": 49,
     "metadata": {},
     "output_type": "execute_result"
    }
   ],
   "source": [
    "a.reshape(5,-1)"
   ]
  },
  {
   "cell_type": "markdown",
   "id": "4a6b4d0f",
   "metadata": {},
   "source": [
    "# Aggregate functions"
   ]
  },
  {
   "cell_type": "code",
   "execution_count": 50,
   "id": "703d81b1",
   "metadata": {
    "ExecuteTime": {
     "end_time": "2022-11-29T06:15:21.761248Z",
     "start_time": "2022-11-29T06:15:21.743260Z"
    }
   },
   "outputs": [
    {
     "data": {
      "text/plain": [
       "0.03285351164296679"
      ]
     },
     "execution_count": 50,
     "metadata": {},
     "output_type": "execute_result"
    }
   ],
   "source": [
    "a.min()"
   ]
  },
  {
   "cell_type": "code",
   "execution_count": 51,
   "id": "ba2c0048",
   "metadata": {
    "ExecuteTime": {
     "end_time": "2022-11-29T06:15:30.789675Z",
     "start_time": "2022-11-29T06:15:30.695699Z"
    }
   },
   "outputs": [
    {
     "data": {
      "text/plain": [
       "0.3004641906864878"
      ]
     },
     "execution_count": 51,
     "metadata": {},
     "output_type": "execute_result"
    }
   ],
   "source": [
    "a.std()"
   ]
  },
  {
   "cell_type": "code",
   "execution_count": 52,
   "id": "cd469458",
   "metadata": {
    "ExecuteTime": {
     "end_time": "2022-11-29T06:15:44.962945Z",
     "start_time": "2022-11-29T06:15:44.943951Z"
    }
   },
   "outputs": [
    {
     "data": {
      "text/plain": [
       "0.0902787298848861"
      ]
     },
     "execution_count": 52,
     "metadata": {},
     "output_type": "execute_result"
    }
   ],
   "source": [
    "a.var()"
   ]
  },
  {
   "cell_type": "code",
   "execution_count": 53,
   "id": "dbc54125",
   "metadata": {
    "ExecuteTime": {
     "end_time": "2022-11-29T06:16:06.939743Z",
     "start_time": "2022-11-29T06:16:06.923752Z"
    }
   },
   "outputs": [
    {
     "data": {
      "text/plain": [
       "0.5701881876417951"
      ]
     },
     "execution_count": 53,
     "metadata": {},
     "output_type": "execute_result"
    }
   ],
   "source": [
    "a.mean()"
   ]
  },
  {
   "cell_type": "markdown",
   "id": "fd0e04e1",
   "metadata": {},
   "source": [
    "# Stacking"
   ]
  },
  {
   "cell_type": "code",
   "execution_count": 54,
   "id": "935c1bdd",
   "metadata": {
    "ExecuteTime": {
     "end_time": "2022-11-29T06:18:15.238459Z",
     "start_time": "2022-11-29T06:18:15.227464Z"
    }
   },
   "outputs": [],
   "source": [
    "a=np.array([1,2,3,4,5])\n",
    "b=np.array([4,5,6,8,7])"
   ]
  },
  {
   "cell_type": "code",
   "execution_count": 55,
   "id": "32c096a9",
   "metadata": {
    "ExecuteTime": {
     "end_time": "2022-11-29T06:18:39.801674Z",
     "start_time": "2022-11-29T06:18:39.791679Z"
    }
   },
   "outputs": [
    {
     "data": {
      "text/plain": [
       "array([1, 2, 3, 4, 5, 4, 5, 6, 8, 7])"
      ]
     },
     "execution_count": 55,
     "metadata": {},
     "output_type": "execute_result"
    }
   ],
   "source": [
    "np.hstack([a,b])"
   ]
  },
  {
   "cell_type": "code",
   "execution_count": 56,
   "id": "4482f073",
   "metadata": {
    "ExecuteTime": {
     "end_time": "2022-11-29T06:19:05.133819Z",
     "start_time": "2022-11-29T06:19:05.119827Z"
    }
   },
   "outputs": [
    {
     "data": {
      "text/plain": [
       "array([[1, 2, 3, 4, 5],\n",
       "       [4, 5, 6, 8, 7]])"
      ]
     },
     "execution_count": 56,
     "metadata": {},
     "output_type": "execute_result"
    }
   ],
   "source": [
    "np.vstack([a,b])"
   ]
  },
  {
   "cell_type": "code",
   "execution_count": null,
   "id": "8ad94ee1",
   "metadata": {},
   "outputs": [],
   "source": [
    "             "
   ]
  }
 ],
 "metadata": {
  "kernelspec": {
   "display_name": "Python 3 (ipykernel)",
   "language": "python",
   "name": "python3"
  },
  "language_info": {
   "codemirror_mode": {
    "name": "ipython",
    "version": 3
   },
   "file_extension": ".py",
   "mimetype": "text/x-python",
   "name": "python",
   "nbconvert_exporter": "python",
   "pygments_lexer": "ipython3",
   "version": "3.9.13"
  }
 },
 "nbformat": 4,
 "nbformat_minor": 5
}
